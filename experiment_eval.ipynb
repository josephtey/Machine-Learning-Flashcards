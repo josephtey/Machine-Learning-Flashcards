{
 "cells": [
  {
   "cell_type": "code",
   "execution_count": null,
   "metadata": {},
   "outputs": [],
   "source": [
    "%load_ext autoreload\n",
    "\n",
    "%autoreload 2\n",
    "\n",
    "from lentil import models\n",
    "from lentil import evaluate\n",
    "from lentil import datatools\n",
    "\n",
    "\n",
    "import evaluate_experiment as e\n",
    "import pandas as pd\n",
    "import numpy as np\n",
    "import pickle\n",
    "import math\n",
    "import sqlite3\n",
    "from collections import defaultdict, namedtuple\n",
    "from collections import Counter\n",
    "\n",
    "Instance = namedtuple('Instance', 'user item time_elapsed outcome'.split())"
   ]
  },
  {
   "cell_type": "code",
   "execution_count": null,
   "metadata": {},
   "outputs": [],
   "source": [
    "def convertIntoList(data, feature, avg=False, sort=False, unique=False, differences=False, fl = False):\n",
    "    lol = 0\n",
    "    features = []\n",
    "    for i in range(len(list(data[feature]))):\n",
    "        try:\n",
    "            if fl==False:\n",
    "                features.append(int(list(data[feature])[i]))\n",
    "            else:\n",
    "                features.append(float(list(data[feature])[i]))\n",
    "        except:\n",
    "            lol += 1\n",
    "    if unique:\n",
    "        features = set(features)\n",
    "    if sort:\n",
    "        features = sorted(features)\n",
    "    if differences:\n",
    "        features = [sorted(set(features))[i+1]-sorted(set(features))[i] for i in range(len(sorted(set(features)))-1)]\n",
    "    if avg:\n",
    "        features = float(sum(features))/len(features)\n",
    "    return features"
   ]
  },
  {
   "cell_type": "code",
   "execution_count": 312,
   "metadata": {},
   "outputs": [],
   "source": [
    "import_cols = ['Anon Student Id', 'Session Id', 'Problem Name', 'Time Elapsed', 'Outcome', 'Condition Name', 'Condition Type', 'Duration', 'Time', 'Step Name', 'Selection', 'Level (Unit)', 'Problem View', 'KC (Default)']\n",
    "#import_cols = ['user', 'item', 'time_elapsed', 'outcome', 'schedulers', 'introduced', 'durations', 'timestamps']"
   ]
  },
  {
   "cell_type": "code",
   "execution_count": 318,
   "metadata": {},
   "outputs": [],
   "source": [
    "japitems =['Environment','Earth','To_protect','Atomic_energy','To_proceed','Lifespan','Warming','Being_left_out','To_commit_suicide','To_lose','Ultraviolet','Exhaust_gas','Air','Conservation','Rise_in_temperature','Co2','Ageing_society','Sun','To_get_on_well','Average','Lonely','Accounting','Lack','Economics','Company_employee','Declining_birth_rate','Tree_dies','To_get_a_license','To_be_healed','Pension','To_disappear','Value','Wind-force','Solitude','Purpose','Global_warming','International_conference','Solar_heat','Raise_children','Relation_to','National_resource','Hard_rubbish','Disposable','Quarrel','Stay_indoors','To_not_get_on_well','Occupation','Hydrolytic_power','Bullying','To_associate_with','Generation_of_electricity','Be_polluted','To_save','Oil','Psychology','Water_shortage','Waste','Problem','To_look_after','Government']\n"
   ]
  },
  {
   "cell_type": "code",
   "execution_count": 326,
   "metadata": {},
   "outputs": [],
   "source": [
    "def getDataOfUser(uid, intr=False, file=None, ts=False, out=False,sched=1,exper=1,strat=1):\n",
    "    histories = []\n",
    "    time_histories = []\n",
    "    users = []\n",
    "    items = []\n",
    "    schedulers = []\n",
    "    introduced = []\n",
    "    durations = []\n",
    "    timestamps = []\n",
    "\n",
    "    conn = sqlite3.connect(file)\n",
    "    c = conn.cursor()\n",
    "\n",
    "    for row in c.execute(\"SELECT rowid, * FROM flashcard ORDER BY id\"):\n",
    "        if row[6] == uid:\n",
    "            schedulers.append(row[-7])\n",
    "            histories.append(row[-11])\n",
    "            time_histories.append(row[-10])\n",
    "            items.append(row[1])\n",
    "            users.append(row[6])\n",
    "            introduced.append(row[-3])\n",
    "            durations.append(row[-8])\n",
    "            timestamps.append(row[-9])\n",
    "\n",
    "    history = [[str(y) for y in x] for x in [str(i).split(',') for i in histories]]\n",
    "    time_history = [[str(y) for y in x] for x in [str(i).split(',') for i in time_histories]]\n",
    "    item = range(1,61)\n",
    "    user = [int(i) for i in users]\n",
    "    scheduler = [int(i) for i in schedulers]\n",
    "    introduce = [i for i in introduced]\n",
    "    duration = [[str(y) for y in x] for x in [str(i).split(',') for i in durations]]\n",
    "    timestamp = [[str(y) for y in x] for x in [str(i).split(',') for i in timestamps]]\n",
    "\n",
    "    \n",
    "    data = pd.DataFrame(columns=import_cols)\n",
    "    intro = []\n",
    "    tstamp = []\n",
    "    outc = []\n",
    "    condition_name = ['efc', 'leitner','flashcard']\n",
    "    outcomee = ['INCORRECT', 'CORRECT']\n",
    "    \n",
    "    for y in range(uid-1, uid):\n",
    "        #print str(y) + ' out of ' + str(len(set(user)))\n",
    "        for x in range(len(item)):\n",
    "            problem_view = 1\n",
    "            if scheduler[x] == sched:\n",
    "                intro.append(introduce[x])\n",
    "                tstamp.append(timestamp[x])\n",
    "                outc.append(history[x])\n",
    "                \n",
    "            for i in range(len(history[x])):\n",
    "                if history[x][i] != '':\n",
    "                    temp = pd.DataFrame([[str(exper)+'_'+str(user[y]), 1, japitems[item[x]-1], time_history[x][i], outcomee[int(history[x][i])], condition_name[int(scheduler[x])-1]+'_'+str(strat), str(scheduler[x])+\"_\"+str(strat), duration[x][i], timestamp[x][i], 1, 1, 12,problem_view,japitems[item[x]-1]]],columns=import_cols)\n",
    "                #temp = pd.DataFrame([[user[y], item[x], time_history[x][i], history[x][i], scheduler[x], introduce[x], duration[x][i], timestamp[x][i]]],columns=cols)\n",
    "                    data = data.append(temp)\n",
    "                problem_view += 1\n",
    "                \n",
    "    if intr:\n",
    "        return intro\n",
    "    elif ts:\n",
    "        return tstamp\n",
    "    elif out:\n",
    "        return outc\n",
    "    else: \n",
    "        return data"
   ]
  },
  {
   "cell_type": "code",
   "execution_count": null,
   "metadata": {},
   "outputs": [],
   "source": [
    "sched1history = []\n",
    "def getTimeHistory(sched_id, leng, control):\n",
    "    data = []\n",
    "    if sched_id == 1:\n",
    "        for x in range(len(strategy_1)):\n",
    "            if x == 0: \n",
    "                file = experiment1file\n",
    "            elif x == 1:\n",
    "                file = experiment2file\n",
    "            else:\n",
    "                file = experiment3file\n",
    "            conn = sqlite3.connect(file)\n",
    "            c = conn.cursor()\n",
    "            \n",
    "            for y in range(len(strategy_1[x])):\n",
    "                for row in c.execute(\"SELECT rowid, * FROM flashcard ORDER BY id\"):\n",
    "                    if row[8] != '' and row[6] == strategy_1[x][y] and len([int(i) for i in str(row[8]).split(',')]) >= leng and row[-7] == control:\n",
    "                        data.append([int(i) for i in str(row[8]).split(',')])\n",
    "                        \n",
    "    elif sched_id == 2:\n",
    "        for x in range(len(strategy_2)):\n",
    "            if x == 0: \n",
    "                file = experiment1file\n",
    "            elif x == 1:\n",
    "                file = experiment2file\n",
    "            else:\n",
    "                file = experiment3file\n",
    "            conn = sqlite3.connect(file)\n",
    "            c = conn.cursor()\n",
    "            \n",
    "            for y in range(len(strategy_2[x])):\n",
    "                for row in c.execute(\"SELECT rowid, * FROM flashcard ORDER BY id\"):\n",
    "                    if row[8] != '' and row[6] == strategy_2[x][y] and len([int(i) for i in str(row[8]).split(',')]) >= leng and row[-7] == control:\n",
    "                        data.append([int(i) for i in str(row[8]).split(',')])\n",
    "    \n",
    "    return data\n",
    "\n",
    "sched1history = getTimeHistory(1, 4, 1)\n",
    "sched1history = [sum(e)/len(e) for e in zip(*sched1history)]\n",
    "sched1history.append([sum(e)/len(e) for e in zip(*getTimeHistory(1, 4, 1))][3])\n",
    "sched1history.append([sum(e)/len(e) for e in zip(*getTimeHistory(1, 5, 1))][4])\n",
    "print sched1history\n",
    "\n",
    "sched1_3history = getTimeHistory(1, 4, 3)\n",
    "sched1_3history = [sum(e)/len(e) for e in zip(*sched1_3history)]\n",
    "print sched1_3history\n",
    "\n",
    "sched2history = getTimeHistory(2, 3, 2)\n",
    "sched2history = [sum(e)/len(e) for e in zip(*sched2history)]\n",
    "sched2history.append([sum(e)/len(e) for e in zip(*getTimeHistory(2, 4, 2))][3])\n",
    "sched2history.append([sum(e)/len(e) for e in zip(*getTimeHistory(2, 5, 2))][4])\n",
    "print sched2history\n",
    "\n",
    "sched2_3history = getTimeHistory(2, 3, 3)\n",
    "sched2_3history = [sum(e)/len(e) for e in zip(*sched2_3history)]\n",
    "print sched2_3history\n"
   ]
  },
  {
   "cell_type": "code",
   "execution_count": null,
   "metadata": {},
   "outputs": [],
   "source": [
    "def getFeedbackFromUser(uid, file):\n",
    "    conn = sqlite3.connect(file)\n",
    "    c = conn.cursor()\n",
    "\n",
    "    for row in c.execute(\"SELECT rowid, * FROM users ORDER BY id\"):\n",
    "        if row[11]=='3,2':\n",
    "            print row[3], row[-6], row[-4]\n",
    "            print ''\n",
    "        \n",
    "getFeedbackFromUser(1, experiment2file)"
   ]
  },
  {
   "cell_type": "code",
   "execution_count": 300,
   "metadata": {},
   "outputs": [],
   "source": [
    "def getData(strategy_one, strategy_two, file, exper):\n",
    "    one_data = pd.DataFrame(columns = import_cols)\n",
    "\n",
    "    for i in range(len(strategy_one)):\n",
    "        data = getDataOfUser(strategy_one[i], file=file, exper=exper, strat=1)\n",
    "        one_data = one_data.append(data)\n",
    "\n",
    "    two_data = pd.DataFrame(columns = import_cols)\n",
    "\n",
    "    for i in range(len(strategy_two)):\n",
    "        data = getDataOfUser(strategy_two[i], file=file, exper=exper, strat=2)\n",
    "        two_data = two_data.append(data)\n",
    "        \n",
    "    return one_data, two_data"
   ]
  },
  {
   "cell_type": "markdown",
   "metadata": {},
   "source": [
    "Begin"
   ]
  },
  {
   "cell_type": "code",
   "execution_count": null,
   "metadata": {},
   "outputs": [],
   "source": [
    "experiment1file = 'classroom_data/actual/experiment1.sqlite'\n",
    "experiment2file = 'classroom_data/actual/experiment2.sqlite'\n",
    "experiment3file = 'classroom_data/actual/experiment3.sqlite'\n",
    "\n",
    "experiment_files = [experiment1file, experiment2file, experiment3file]"
   ]
  },
  {
   "cell_type": "code",
   "execution_count": 320,
   "metadata": {},
   "outputs": [],
   "source": [
    "strategy_1 = [[1,2,3,4,6], [12,13,14,15,17], [1,2,3,5]]\n",
    "strategy_2 = [[11,12,13,14,16,17], [19,20,21,22,23,24,25,26], [7,8,9]]"
   ]
  },
  {
   "cell_type": "code",
   "execution_count": 327,
   "metadata": {},
   "outputs": [],
   "source": [
    "data_1_1, data_1_2 = getData(strategy_1[0], strategy_2[0], experiment1file,1)"
   ]
  },
  {
   "cell_type": "code",
   "execution_count": 328,
   "metadata": {},
   "outputs": [],
   "source": [
    "data_2_1, data_2_2 = getData(strategy_1[1], strategy_2[1], experiment2file,2)"
   ]
  },
  {
   "cell_type": "code",
   "execution_count": 329,
   "metadata": {},
   "outputs": [],
   "source": [
    "data_3_1, data_3_2 = getData(strategy_1[2], strategy_2[2], experiment3file,3)"
   ]
  },
  {
   "cell_type": "code",
   "execution_count": 295,
   "metadata": {},
   "outputs": [],
   "source": [
    "data_1 = data_2_1\n",
    "data_2 = data_2_2"
   ]
  },
  {
   "cell_type": "code",
   "execution_count": 330,
   "metadata": {},
   "outputs": [],
   "source": [
    "frames_1 = [data_1_1, data_2_1, data_3_1]\n",
    "frames_2 = [data_1_2, data_2_2, data_3_2]\n",
    "data_1 = pd.concat(frames_1)\n",
    "data_2 = pd.concat(frames_2)\n",
    "\n",
    "frames_3 = [data_1,data_2]\n",
    "data = pd.concat(frames_3)"
   ]
  },
  {
   "cell_type": "code",
   "execution_count": null,
   "metadata": {},
   "outputs": [],
   "source": [
    "one_data_strat = data_1[data_1['schedulers'] == 1.0]\n",
    "one_data_control = data_1[data_1['schedulers'] == 3.0]\n",
    "two_data_strat = data_2[data_2['schedulers'] == 2.0]\n",
    "two_data_control = data_2[data_2['schedulers'] == 3.0]"
   ]
  },
  {
   "cell_type": "code",
   "execution_count": null,
   "metadata": {},
   "outputs": [],
   "source": [
    "one_data_strat.to_csv('one_data_strat.csv')\n",
    "one_data_control.to_csv('one_data_control.csv')\n",
    "two_data_strat.to_csv('two_data_strat.csv')\n",
    "two_data_control.to_csv('two_data_control.csv')"
   ]
  },
  {
   "cell_type": "code",
   "execution_count": 331,
   "metadata": {},
   "outputs": [],
   "source": [
    "data.replace('', np.nan, inplace=True)\n",
    "data = data.dropna()\n",
    "data.to_csv('data.csv')"
   ]
  },
  {
   "cell_type": "markdown",
   "metadata": {},
   "source": [
    "Durations"
   ]
  },
  {
   "cell_type": "code",
   "execution_count": null,
   "metadata": {},
   "outputs": [],
   "source": [
    "def int_or_float(s):\n",
    "    try:\n",
    "        return int(s)\n",
    "    except ValueError:\n",
    "        return float(s)\n",
    "\n",
    "def getDurations(sched, outcome):\n",
    "    new_sched = sched.replace('', np.nan).dropna()\n",
    "    if outcome != None:\n",
    "        filtered = new_sched['outcome'] == str(outcome)\n",
    "        new = new_sched[filtered]\n",
    "    else:\n",
    "        new = new_sched\n",
    "    durations = [int_or_float(i) for i in list(new['durations'])]\n",
    "\n",
    "    avg_duration = float(sum(durations))/float(len(durations))\n",
    "    return avg_duration\n",
    "\n",
    "print getDurations(one_data_strat, 1), getDurations(one_data_strat, 0)\n",
    "print getDurations(one_data_control, 1), getDurations(one_data_control, 0)\n",
    "print getDurations(two_data_strat, 1), getDurations(two_data_strat, 0)-0.2\n",
    "print getDurations(two_data_control, 1), getDurations(two_data_control, 0)-0.2"
   ]
  },
  {
   "cell_type": "markdown",
   "metadata": {},
   "source": [
    "Mean proportion correct"
   ]
  },
  {
   "cell_type": "code",
   "execution_count": null,
   "metadata": {},
   "outputs": [],
   "source": [
    "outcome_1_1 = convertIntoList(one_data_strat, 'outcome')\n",
    "outcome_1_3 = convertIntoList(one_data_control, 'outcome')\n",
    "\n",
    "outcome_2_1 = convertIntoList(two_data_strat, 'outcome')\n",
    "outcome_2_3 = convertIntoList(two_data_control, 'outcome')\n",
    "\n",
    "print Counter(outcome_1_1)[1], Counter(outcome_1_3)[1]\n",
    "print Counter(outcome_2_1)[1], Counter(outcome_2_3)[1]"
   ]
  },
  {
   "cell_type": "code",
   "execution_count": null,
   "metadata": {},
   "outputs": [],
   "source": [
    "one_data_strat = []\n",
    "\n",
    "for x in range(len(strategy_1)):\n",
    "    for i in range(len(strategy_1[x])):\n",
    "        data = getDataOfUser(strategy_1[x][i], file=experiment_files[x], out=True, sched=1)\n",
    "        one_data_strat.append(data)\n",
    "        data = []\n",
    "    \n",
    "one_data_control = []\n",
    "\n",
    "for x in range(len(strategy_1)):\n",
    "    for i in range(len(strategy_1[x])):\n",
    "        data = getDataOfUser(strategy_1[x][i], file=experiment_files[x], out=True, sched=3)\n",
    "        one_data_control.append(data)\n",
    "        data = []\n",
    "    \n",
    "two_data_strat = []\n",
    "\n",
    "for x in range(len(strategy_2)):\n",
    "    for i in range(len(strategy_2[x])):\n",
    "        data = getDataOfUser(strategy_2[x][i], file=experiment_files[x], out=True, sched=2)\n",
    "        two_data_strat.append(data)\n",
    "        data = []\n",
    "    \n",
    "two_data_control = []\n",
    "\n",
    "for x in range(len(strategy_2)):\n",
    "    for i in range(len(strategy_2[x])):\n",
    "        data = getDataOfUser(strategy_2[x][i], file=experiment_files[x], out=True, sched=3)\n",
    "        two_data_control.append(data)\n",
    "        data = []"
   ]
  },
  {
   "cell_type": "code",
   "execution_count": null,
   "metadata": {},
   "outputs": [],
   "source": [
    "def getNumberCorrect(scheduler):\n",
    "    data = []\n",
    "    final = []\n",
    "    for y in range(len(scheduler)):\n",
    "        for i in range(len(scheduler[y])):\n",
    "            for x in range(len(scheduler[y][i])):\n",
    "                if scheduler[y][i][x] != '':\n",
    "                    data.append(int(scheduler[y][i][x]))\n",
    "        total = float(sum(data))/float(len(data))\n",
    "        final.append(total)\n",
    "        data = []\n",
    "    \n",
    "    return final"
   ]
  },
  {
   "cell_type": "code",
   "execution_count": null,
   "metadata": {},
   "outputs": [],
   "source": [
    "one_data_strat_correct = getNumberCorrect(one_data_strat)\n",
    "one_data_control_correct = getNumberCorrect(one_data_control)\n",
    "two_data_strat_correct = getNumberCorrect(two_data_strat)\n",
    "two_data_control_correct = getNumberCorrect(two_data_control)"
   ]
  },
  {
   "cell_type": "code",
   "execution_count": null,
   "metadata": {},
   "outputs": [],
   "source": [
    "print len(one_data_strat_correct)"
   ]
  },
  {
   "cell_type": "code",
   "execution_count": null,
   "metadata": {},
   "outputs": [],
   "source": [
    "print sum(one_data_strat_correct)/len(one_data_strat_correct), sum(one_data_control_correct)/len(one_data_control_correct)\n",
    "print sum(two_data_strat_correct)/len(two_data_strat_correct), sum(two_data_control_correct)/len(two_data_control_correct)"
   ]
  },
  {
   "cell_type": "markdown",
   "metadata": {},
   "source": [
    "Number of words introduced"
   ]
  },
  {
   "cell_type": "code",
   "execution_count": null,
   "metadata": {},
   "outputs": [],
   "source": [
    "one_data = []\n",
    "\n",
    "for i in range(len(strategy_1)):\n",
    "    data = getDataOfUser(strategy_1[i], intr=True)\n",
    "    one_data.append(data)\n",
    "    \n",
    "two_data = []\n",
    "\n",
    "for i in range(len(strategy_2)):\n",
    "    data = getDataOfUser(strategy_2[i], intr=True)\n",
    "    two_data.append(data)"
   ]
  },
  {
   "cell_type": "code",
   "execution_count": null,
   "metadata": {},
   "outputs": [],
   "source": [
    "from collections import Counter \n",
    "\n",
    "introduced_1 = []\n",
    "for i in range(len(strategy_1)):\n",
    "    introduced_1.append(Counter(one_data[i])[''])\n",
    "    \n",
    "#introduced_1 = sum(introduced_1)/len(introduced_1)\n",
    "\n",
    "introduced_2 = []\n",
    "for i in range(len(strategy_2)):\n",
    "    introduced_2.append(Counter(two_data[i])[''])\n",
    "\n",
    "#introduced_2 = sum(introduced_2)/len(introduced_2)\n",
    "\n",
    "print [30-i for i in introduced_1]\n",
    "print [30-i for i in introduced_2]"
   ]
  },
  {
   "cell_type": "code",
   "execution_count": null,
   "metadata": {},
   "outputs": [],
   "source": [
    "e.plotGraph([ ['Control', 'Leitner', 'EFC'], ['Control', 'Leitner', 'EFC'] ], [ [47.619047619, 56.3395581239, 70.6349206349], [34.76190477,37.9078197,50.55195913] ], ['Learning Accuracy', 'Retention Accuracy'])"
   ]
  },
  {
   "cell_type": "markdown",
   "metadata": {},
   "source": [
    "Time elapsed"
   ]
  },
  {
   "cell_type": "code",
   "execution_count": null,
   "metadata": {},
   "outputs": [],
   "source": [
    "time_elapsed_1_1 = convertIntoList(one_data_strat, 'time_elapsed', True)\n",
    "time_elapsed_1_3 = convertIntoList(one_data_control, 'time_elapsed', True)\n",
    "\n",
    "time_elapsed_2_1 = convertIntoList(two_data_strat, 'time_elapsed', True)\n",
    "time_elapsed_2_3 = convertIntoList(two_data_control, 'time_elapsed', True)\n",
    "\n",
    "print time_elapsed_1_1, time_elapsed_1_3\n",
    "print time_elapsed_2_1, time_elapsed_2_3"
   ]
  },
  {
   "cell_type": "markdown",
   "metadata": {},
   "source": [
    "Overall time taken"
   ]
  },
  {
   "cell_type": "code",
   "execution_count": null,
   "metadata": {},
   "outputs": [],
   "source": [
    "one_data_strat = []\n",
    "\n",
    "for x in range(len(strategy_1)):\n",
    "    for i in range(len(strategy_1[x])):\n",
    "        data = getDataOfUser(strategy_1[x][i], file=experiment_files[x], ts=True, sched=1)\n",
    "        one_data_strat.append(data)\n",
    "        data = []\n",
    "    \n",
    "one_data_control = []\n",
    "\n",
    "for x in range(len(strategy_1)):\n",
    "    for i in range(len(strategy_1[x])):\n",
    "        data = getDataOfUser(strategy_1[x][i], file=experiment_files[x], ts=True, sched=3)\n",
    "        one_data_control.append(data)\n",
    "        data = []\n",
    "    \n",
    "two_data_strat = []\n",
    "\n",
    "for x in range(len(strategy_2)):\n",
    "    for i in range(len(strategy_2[x])):\n",
    "        data = getDataOfUser(strategy_2[x][i], file=experiment_files[x], ts=True, sched=2)\n",
    "        two_data_strat.append(data)\n",
    "        data = []\n",
    "    \n",
    "two_data_control = []\n",
    "\n",
    "for x in range(len(strategy_2)):\n",
    "    for i in range(len(strategy_2[x])):\n",
    "        data = getDataOfUser(strategy_2[x][i], file=experiment_files[x], ts=True, sched=3)\n",
    "        two_data_control.append(data)\n",
    "        data = []"
   ]
  },
  {
   "cell_type": "code",
   "execution_count": null,
   "metadata": {},
   "outputs": [],
   "source": [
    "def getOverallTime(scheduler):\n",
    "    data = []\n",
    "    final = []\n",
    "    for y in range(len(scheduler)):\n",
    "        for i in range(len(scheduler[y])):\n",
    "            for x in range(len(scheduler[y][i])):\n",
    "                if scheduler[y][i][x] != '':\n",
    "                    data.append(int(scheduler[y][i][x]))\n",
    "        time = round((max(data) - min(data))/60.0,1)\n",
    "        final.append(time)\n",
    "        data = []\n",
    "    \n",
    "    return final\n",
    "\n",
    "one_data_strat_time = getOverallTime(one_data_strat)\n",
    "one_data_control_time = getOverallTime(one_data_control)\n",
    "two_data_strat_time = getOverallTime(two_data_strat)\n",
    "two_data_control_time = getOverallTime(two_data_control)"
   ]
  },
  {
   "cell_type": "code",
   "execution_count": null,
   "metadata": {},
   "outputs": [],
   "source": [
    "print one_data_strat_time, one_data_control_time\n",
    "print two_data_strat_time, two_data_control_time"
   ]
  },
  {
   "cell_type": "markdown",
   "metadata": {},
   "source": [
    "Mean time history"
   ]
  },
  {
   "cell_type": "code",
   "execution_count": null,
   "metadata": {},
   "outputs": [],
   "source": [
    "def getMeanTimeHistory(scheduler, length):\n",
    "    items = list(scheduler['item'])\n",
    "    timestamps = list(scheduler['time_elapsed'])\n",
    "    p = list(zip(items, timestamps))\n",
    "    d = {}\n",
    "    for item, timestamp in p:\n",
    "        key = item\n",
    "        if key in d:\n",
    "            v = d[key]\n",
    "            v[0] += \", {}\".format(str(timestamp))\n",
    "        else:\n",
    "            d[key] = [timestamp]\n",
    "    \n",
    "    x = []\n",
    "    q = list(d.values())\n",
    "    for i in range(len(q)):\n",
    "        if q[i][0] != '':\n",
    "            x.append(q[i])\n",
    "    y = []\n",
    "    dummy = 0\n",
    "    for i in range(len(x)):\n",
    "        try:\n",
    "            y.append(x[i][0].split(','))\n",
    "            y[i] = [int(o) for o in y[i]]\n",
    "        except:\n",
    "            y.pop()\n",
    "            y.append([0])\n",
    "            dummy += 1\n",
    "\n",
    "    final = []\n",
    "    for i in range(len(y)):\n",
    "        if len(y[i]) > length:\n",
    "            final.append(y[i])\n",
    "    \n",
    "    output = []\n",
    "    for k in range(length):\n",
    "        output.append(sum(final[k])/len(final[k]))\n",
    "    return output\n",
    "\n",
    "l = 3\n",
    "\n",
    "print getMeanTimeHistory(one_data_strat, l), getMeanTimeHistory(one_data_control, l)\n",
    "print getMeanTimeHistory(two_data_strat, l), getMeanTimeHistory(two_data_control, l)"
   ]
  },
  {
   "cell_type": "markdown",
   "metadata": {},
   "source": [
    "Mean introduced seconds"
   ]
  },
  {
   "cell_type": "code",
   "execution_count": null,
   "metadata": {},
   "outputs": [],
   "source": [
    "introduced_1_1 = convertIntoList(one_data_strat, 'introduced', True, True, True, True)\n",
    "introduced_1_3 = convertIntoList(one_data_control, 'introduced', True, True, True, True)\n",
    "\n",
    "introduced_2_1 = convertIntoList(two_data_strat, 'introduced', True, True, True, True)\n",
    "introduced_2_3 = convertIntoList(two_data_control, 'introduced', True, True, True, True)\n",
    "\n",
    "print introduced_1_1,introduced_1_3\n",
    "print introduced_2_1,introduced_2_3"
   ]
  },
  {
   "cell_type": "markdown",
   "metadata": {},
   "source": [
    "Durations"
   ]
  },
  {
   "cell_type": "code",
   "execution_count": null,
   "metadata": {},
   "outputs": [],
   "source": [
    "durations_1_1 = convertIntoList(one_data_strat, 'durations', avg=True, fl=True)\n",
    "durations_1_3 = convertIntoList(one_data_control, 'durations', avg=True, fl=True)\n",
    "\n",
    "durations_2_1 = convertIntoList(two_data_strat, 'durations', avg=True, fl=True)\n",
    "durations_2_3 = convertIntoList(two_data_control, 'durations', avg=True, fl=True)\n",
    "\n",
    "print durations_1_1, durations_1_3\n",
    "print durations_2_1, durations_2_3"
   ]
  },
  {
   "cell_type": "markdown",
   "metadata": {},
   "source": [
    "Learning efficiency"
   ]
  },
  {
   "cell_type": "code",
   "execution_count": null,
   "metadata": {},
   "outputs": [],
   "source": [
    "le_one_strategy = [a_i/b_i for a_i, b_i in zip(one_data_strat_correct, one_data_strat_time)]\n",
    "le_one_control = [a_i/b_i for a_i, b_i in zip(one_data_control_correct, one_data_control_time)]\n",
    "le_two_strategy = [a_i/b_i for a_i, b_i in zip(two_data_strat_correct, two_data_strat_time)]\n",
    "le_two_control = [a_i/b_i for a_i, b_i in zip(two_data_control_correct, two_data_control_time)]\n",
    "\n",
    "print le_two_strategy\n",
    "\n",
    "le_one_strategy = sum(le_one_strategy)/len(le_one_strategy)\n",
    "le_one_control = sum(le_one_control)/len(le_one_control)\n",
    "le_two_strategy = sum(le_two_strategy)/len(le_two_strategy)\n",
    "le_two_control = sum(le_two_control)/len(le_two_control)\n",
    "\n",
    "print le_one_strategy, le_one_control\n",
    "print le_two_strategy, le_two_control"
   ]
  },
  {
   "cell_type": "markdown",
   "metadata": {},
   "source": [
    "Feedback"
   ]
  }
 ],
 "metadata": {
  "kernelspec": {
   "display_name": "Python 2",
   "language": "python",
   "name": "python2"
  },
  "language_info": {
   "codemirror_mode": {
    "name": "ipython",
    "version": 2
   },
   "file_extension": ".py",
   "mimetype": "text/x-python",
   "name": "python",
   "nbconvert_exporter": "python",
   "pygments_lexer": "ipython2",
   "version": "2.7.13"
  }
 },
 "nbformat": 4,
 "nbformat_minor": 2
}
