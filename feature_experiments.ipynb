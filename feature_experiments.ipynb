{
 "cells": [
  {
   "cell_type": "code",
   "execution_count": 19,
   "metadata": {},
   "outputs": [
    {
     "name": "stdout",
     "output_type": "stream",
     "text": [
      "The autoreload extension is already loaded. To reload it, use:\n",
      "  %reload_ext autoreload\n"
     ]
    }
   ],
   "source": [
    "%load_ext autoreload\n",
    "\n",
    "%autoreload 2\n",
    "\n",
    "import tools as t\n",
    "import readdata as rm\n",
    "import predictive_model as m\n",
    "import evaluate as e\n",
    "\n",
    "from lentil import models\n",
    "from lentil import evaluate\n",
    "from lentil import datatools\n",
    "\n",
    "import pandas as pd\n",
    "import numpy as np\n",
    "import pickle\n",
    "import math\n",
    "\n",
    "import plotly\n",
    "plotly.offline.init_notebook_mode(connected=True)"
   ]
  },
  {
   "cell_type": "markdown",
   "metadata": {},
   "source": [
    "Read Raw Data and Generate Features into 'processed_data.txt'"
   ]
  },
  {
   "cell_type": "code",
   "execution_count": null,
   "metadata": {},
   "outputs": [],
   "source": [
    "rm.getTrainingInstances('raw_data/spanish_data.csv','spanish_processed.txt', 0, 2, 1, 3)"
   ]
  },
  {
   "cell_type": "code",
   "execution_count": null,
   "metadata": {},
   "outputs": [],
   "source": [
    "rm.getTrainingInstances('raw_data/radical_transfer_2007.csv','radical_processed.txt', 0, 3, 2, 4)"
   ]
  },
  {
   "cell_type": "code",
   "execution_count": null,
   "metadata": {},
   "outputs": [],
   "source": [
    "rm.getTrainingInstances('raw_data/chinese-hundredthousand.csv','chinese_processed.txt', 0, 3, 2, 4, 'pickles/history.pkl')"
   ]
  },
  {
   "cell_type": "markdown",
   "metadata": {},
   "source": [
    "Convert processed data into Interaction History object"
   ]
  },
  {
   "cell_type": "code",
   "execution_count": null,
   "metadata": {},
   "outputs": [],
   "source": [
    "spanish_history = t.textToInteractionHistory('spanish_processed.txt', 'timestamp', 'student_id','module_id','outcome', 'True')\n",
    "\n",
    "t.savePickle(spanish_history, 'datasets/spanish.pkl')"
   ]
  },
  {
   "cell_type": "code",
   "execution_count": null,
   "metadata": {},
   "outputs": [],
   "source": [
    "radical_history = t.textToInteractionHistory('radical_processed.txt', 'timestamp', 'student_id','module_id','outcome', 'True')\n",
    "\n",
    "filtered_radical = t.filterHistory(radical_history.data)\n",
    "t.savePickle(filtered_radical, 'datasets/radical.pkl')"
   ]
  },
  {
   "cell_type": "code",
   "execution_count": null,
   "metadata": {},
   "outputs": [],
   "source": [
    "chinese_history = t.textToInteractionHistory('chinese_processed.txt', 'timestamp', 'student_id','module_id','outcome', 'True')\n",
    "\n",
    "t.savePickle(chinese_history, 'datasets/chinese.pkl')"
   ]
  },
  {
   "cell_type": "markdown",
   "metadata": {},
   "source": [
    "Load ready-to-go datasets from pickles"
   ]
  },
  {
   "cell_type": "code",
   "execution_count": 164,
   "metadata": {},
   "outputs": [],
   "source": [
    "spanish_history = t.loadPickle('datasets/spanish.pkl')"
   ]
  },
  {
   "cell_type": "code",
   "execution_count": 165,
   "metadata": {},
   "outputs": [],
   "source": [
    "radical_history = t.loadPickle('datasets/radical.pkl')"
   ]
  },
  {
   "cell_type": "code",
   "execution_count": 166,
   "metadata": {},
   "outputs": [],
   "source": [
    "chinese_history = t.loadPickle('datasets/chinese.pkl')"
   ]
  },
  {
   "cell_type": "code",
   "execution_count": 167,
   "metadata": {},
   "outputs": [],
   "source": [
    "chinese_2007_history = t.loadPickle('datasets/chinese_2007.pkl')"
   ]
  },
  {
   "cell_type": "code",
   "execution_count": null,
   "metadata": {},
   "outputs": [],
   "source": [
    "mnemosyne_history = t.loadPickle('datasets/mnemosyne.pkl')"
   ]
  },
  {
   "cell_type": "code",
   "execution_count": 128,
   "metadata": {},
   "outputs": [],
   "source": [
    "chinese_spring = t.loadPickle('datasets/chinese_spring.pkl')"
   ]
  },
  {
   "cell_type": "markdown",
   "metadata": {},
   "source": [
    "Check properties of data"
   ]
  },
  {
   "cell_type": "code",
   "execution_count": 169,
   "metadata": {},
   "outputs": [
    {
     "name": "stdout",
     "output_type": "stream",
     "text": [
      "SPANISH\n",
      "21 students\n",
      "668 assessments\n",
      "9719 interactions\n",
      "True/Total: 0.787735363721\n",
      "\n",
      "RADICAL\n",
      "90 students\n",
      "466 assessments\n",
      "43799 interactions\n",
      "True/Total: 0.831685654924\n",
      "\n",
      "CHINESE\n",
      "101 students\n",
      "919 assessments\n",
      "79119 interactions\n",
      "True/Total: 0.865000821547\n",
      "\n",
      "CHINESE 2007\n",
      "87 students\n",
      "1091 assessments\n",
      "81199 interactions\n",
      "True/Total: 0.797780760847\n",
      "\n"
     ]
    }
   ],
   "source": [
    "print 'SPANISH'\n",
    "print str(spanish_history.num_students()) + ' students'\n",
    "print str(spanish_history.num_assessments()) + ' assessments'\n",
    "print str(len(spanish_history.data)) + ' interactions'\n",
    "print t.getTrueFalseDistribution(spanish_history.data) + '\\n'\n",
    "\n",
    "print 'RADICAL'\n",
    "print str(radical_history.num_students()) + ' students'\n",
    "print str(radical_history.num_assessments()) + ' assessments'\n",
    "print str(len(radical_history.data)) + ' interactions'\n",
    "print t.getTrueFalseDistribution(radical_history.data) + '\\n'\n",
    "\n",
    "print 'CHINESE'\n",
    "print str(chinese_history.num_students()) + ' students'\n",
    "print str(chinese_history.num_assessments()) + ' assessments'\n",
    "print str(len(chinese_history.data)) + ' interactions'\n",
    "print t.getTrueFalseDistribution(chinese_history.data) + '\\n'\n",
    "\n",
    "print 'CHINESE 2007'\n",
    "print str(chinese_2007_history.num_students()) + ' students'\n",
    "print str(chinese_2007_history.num_assessments()) + ' assessments'\n",
    "print str(len(chinese_2007_history.data)) + ' interactions'\n",
    "print t.getTrueFalseDistribution(chinese_2007_history.data) + '\\n'"
   ]
  },
  {
   "cell_type": "code",
   "execution_count": null,
   "metadata": {},
   "outputs": [],
   "source": [
    "print 'MNEMOSYNE'\n",
    "print str(mnemosyne_history.num_students()) + ' students'\n",
    "print str(mnemosyne_history.num_assessments()) + ' assessments'\n",
    "print t.getTrueFalseDistribution(mnemosyne_history.data) + '\\n'"
   ]
  },
  {
   "cell_type": "markdown",
   "metadata": {},
   "source": [
    "Online Prediction Accuracy: Spanish, Radical and Chinese Datasets"
   ]
  },
  {
   "cell_type": "markdown",
   "metadata": {},
   "source": [
    "Training population: 20%; Testing population: 80%"
   ]
  },
  {
   "cell_type": "code",
   "execution_count": null,
   "metadata": {},
   "outputs": [],
   "source": [
    "#split history\n",
    "train_chinese, test_chinese = t.splitHistory(chinese_history, 70)"
   ]
  },
  {
   "cell_type": "code",
   "execution_count": 159,
   "metadata": {},
   "outputs": [],
   "source": [
    "train_spanish, test_spanish = t.splitHistory(spanish_history, 70)"
   ]
  },
  {
   "cell_type": "code",
   "execution_count": 83,
   "metadata": {},
   "outputs": [],
   "source": [
    "train_radical, test_radical = t.splitHistory(radical_history, 70)"
   ]
  },
  {
   "cell_type": "code",
   "execution_count": 55,
   "metadata": {},
   "outputs": [],
   "source": [
    "train_chinese_2007, test_chinese_2007 = t.splitHistory(chinese_2007_history, 70)"
   ]
  },
  {
   "cell_type": "code",
   "execution_count": 102,
   "metadata": {},
   "outputs": [],
   "source": [
    "train_mnemosyne, test_mnemosyne = t.splitHistory(mnemosyne_history, 70)"
   ]
  },
  {
   "cell_type": "markdown",
   "metadata": {},
   "source": [
    "Set train and test datasets"
   ]
  },
  {
   "cell_type": "code",
   "execution_count": 103,
   "metadata": {},
   "outputs": [],
   "source": [
    "total, train, test = mnemosyne_history, train_mnemosyne, test_mnemosyne"
   ]
  },
  {
   "cell_type": "markdown",
   "metadata": {},
   "source": [
    "Train models"
   ]
  },
  {
   "cell_type": "code",
   "execution_count": 108,
   "metadata": {},
   "outputs": [],
   "source": [
    "efc_model = e.train_efc(train.data, train.data)"
   ]
  },
  {
   "cell_type": "code",
   "execution_count": 155,
   "metadata": {},
   "outputs": [],
   "source": [
    "onepl_model = e.train_onepl(train.data, train.data)"
   ]
  },
  {
   "cell_type": "code",
   "execution_count": 141,
   "metadata": {},
   "outputs": [],
   "source": [
    "random_model = e.train_random(train.data, train.data)"
   ]
  },
  {
   "cell_type": "code",
   "execution_count": 142,
   "metadata": {},
   "outputs": [],
   "source": [
    "percentage_model = e.train_percentage(train.data, train.data)"
   ]
  },
  {
   "cell_type": "code",
   "execution_count": 151,
   "metadata": {},
   "outputs": [],
   "source": [
    "logistic_model = e.train_logistic(train.data, train.data)"
   ]
  },
  {
   "cell_type": "markdown",
   "metadata": {},
   "source": [
    "Evaluate"
   ]
  },
  {
   "cell_type": "code",
   "execution_count": null,
   "metadata": {},
   "outputs": [],
   "source": [
    "evaluate.training_auc(efc_model, test, True)"
   ]
  },
  {
   "cell_type": "code",
   "execution_count": 152,
   "metadata": {},
   "outputs": [
    {
     "data": {
      "image/png": "[encoded data removed]",
      "text/plain": [
       "<matplotlib.figure.Figure at 0x10ecb4a50>"
      ]
     },
     "metadata": {},
     "output_type": "display_data"
    },
    {
     "data": {
      "text/plain": [
       "0.77308320356286542"
      ]
     },
     "execution_count": 152,
     "metadata": {},
     "output_type": "execute_result"
    }
   ],
   "source": [
    "evaluate.training_auc(logistic_model, test)"
   ]
  },
  {
   "cell_type": "code",
   "execution_count": 146,
   "metadata": {},
   "outputs": [
    {
     "data": {
      "image/png": "[encoded data removed]",
      "text/plain": [
       "<matplotlib.figure.Figure at 0x10c4ca310>"
      ]
     },
     "metadata": {},
     "output_type": "display_data"
    },
    {
     "data": {
      "image/png": "[encoded data removed]",
      "text/plain": [
       "<matplotlib.figure.Figure at 0x10c5192d0>"
      ]
     },
     "metadata": {},
     "output_type": "display_data"
    }
   ],
   "source": [
    "perc_auc = evaluate.training_auc(percentage_model, test, True)\n",
    "random_auc = evaluate.training_auc(random_model, test, True)"
   ]
  },
  {
   "cell_type": "markdown",
   "metadata": {},
   "source": [
    "Generate Results"
   ]
  },
  {
   "cell_type": "code",
   "execution_count": null,
   "metadata": {},
   "outputs": [],
   "source": [
    "results = e.getResults(total, 4, True)"
   ]
  },
  {
   "cell_type": "markdown",
   "metadata": {},
   "source": [
    "Read Results"
   ]
  },
  {
   "cell_type": "code",
   "execution_count": 160,
   "metadata": {},
   "outputs": [],
   "source": [
    "results = t.loadPickle('results/chinese_2006.pkl')"
   ]
  },
  {
   "cell_type": "code",
   "execution_count": 161,
   "metadata": {},
   "outputs": [],
   "source": [
    "e.overallAccuracy(['EFC','LR','PERC','IRT'], results, 'AUC', 'Chinese 2006')"
   ]
  }
 ],
 "metadata": {
  "kernelspec": {
   "display_name": "Python 2",
   "language": "python",
   "name": "python2"
  },
  "language_info": {
   "codemirror_mode": {
    "name": "ipython",
    "version": 2
   },
   "file_extension": ".py",
   "mimetype": "text/x-python",
   "name": "python",
   "nbconvert_exporter": "python",
   "pygments_lexer": "ipython2",
   "version": "2.7.13"
  }
 },
 "nbformat": 4,
 "nbformat_minor": 2
}
